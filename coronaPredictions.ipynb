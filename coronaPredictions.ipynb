{
 "cells": [
  {
   "cell_type": "code",
   "execution_count": 1,
   "metadata": {},
   "outputs": [
    {
     "name": "stdout",
     "output_type": "stream",
     "text": [
      "Requirement already satisfied: numpy in c:\\users\\patri\\appdata\\local\\programs\\python\\python310\\lib\\site-packages (1.22.0)\n"
     ]
    },
    {
     "name": "stderr",
     "output_type": "stream",
     "text": [
      "WARNING: You are using pip version 21.2.4; however, version 21.3.1 is available.\n",
      "You should consider upgrading via the 'c:\\Users\\patri\\AppData\\Local\\Programs\\Python\\Python310\\python.exe -m pip install --upgrade pip' command.\n"
     ]
    },
    {
     "name": "stdout",
     "output_type": "stream",
     "text": [
      "Requirement already satisfied: pandas in c:\\users\\patri\\appdata\\local\\programs\\python\\python310\\lib\\site-packages (1.3.5)"
     ]
    },
    {
     "name": "stderr",
     "output_type": "stream",
     "text": [
      "WARNING: You are using pip version 21.2.4; however, version 21.3.1 is available.\n",
      "You should consider upgrading via the 'c:\\Users\\patri\\AppData\\Local\\Programs\\Python\\Python310\\python.exe -m pip install --upgrade pip' command.\n"
     ]
    },
    {
     "name": "stdout",
     "output_type": "stream",
     "text": [
      "\n",
      "Requirement already satisfied: pytz>=2017.3 in c:\\users\\patri\\appdata\\local\\programs\\python\\python310\\lib\\site-packages (from pandas) (2021.3)\n",
      "Requirement already satisfied: numpy>=1.21.0 in c:\\users\\patri\\appdata\\local\\programs\\python\\python310\\lib\\site-packages (from pandas) (1.22.0)\n",
      "Requirement already satisfied: python-dateutil>=2.7.3 in c:\\users\\patri\\appdata\\roaming\\python\\python310\\site-packages (from pandas) (2.8.2)\n",
      "Requirement already satisfied: six>=1.5 in c:\\users\\patri\\appdata\\roaming\\python\\python310\\site-packages (from python-dateutil>=2.7.3->pandas) (1.16.0)\n",
      "Requirement already satisfied: spacy in c:\\users\\patri\\appdata\\local\\programs\\python\\python310\\lib\\site-packages (3.2.1)\n",
      "Requirement already satisfied: numpy>=1.15.0 in c:\\users\\patri\\appdata\\local\\programs\\python\\python310\\lib\\site-packages (from spacy) (1.22.0)\n",
      "Requirement already satisfied: tqdm<5.0.0,>=4.38.0 in c:\\users\\patri\\appdata\\local\\programs\\python\\python310\\lib\\site-packages (from spacy) (4.62.3)\n",
      "Requirement already satisfied: jinja2 in c:\\users\\patri\\appdata\\local\\programs\\python\\python310\\lib\\site-packages (from spacy) (3.0.3)\n",
      "Requirement already satisfied: murmurhash<1.1.0,>=0.28.0 in c:\\users\\patri\\appdata\\local\\programs\\python\\python310\\lib\\site-packages (from spacy) (1.0.6)\n",
      "Requirement already satisfied: typer<0.5.0,>=0.3.0 in c:\\users\\patri\\appdata\\local\\programs\\python\\python310\\lib\\site-packages (from spacy) (0.4.0)\n",
      "Requirement already satisfied: langcodes<4.0.0,>=3.2.0 in c:\\users\\patri\\appdata\\local\\programs\\python\\python310\\lib\\site-packages (from spacy) (3.3.0)\n",
      "Requirement already satisfied: pydantic!=1.8,!=1.8.1,<1.9.0,>=1.7.4 in c:\\users\\patri\\appdata\\local\\programs\\python\\python310\\lib\\site-packages (from spacy) (1.8.2)\n",
      "Requirement already satisfied: spacy-legacy<3.1.0,>=3.0.8 in c:\\users\\patri\\appdata\\local\\programs\\python\\python310\\lib\\site-packages (from spacy) (3.0.8)\n",
      "Requirement already satisfied: srsly<3.0.0,>=2.4.1 in c:\\users\\patri\\appdata\\local\\programs\\python\\python310\\lib\\site-packages (from spacy) (2.4.2)\n",
      "Requirement already satisfied: catalogue<2.1.0,>=2.0.6 in c:\\users\\patri\\appdata\\local\\programs\\python\\python310\\lib\\site-packages (from spacy) (2.0.6)\n",
      "Requirement already satisfied: setuptools in c:\\users\\patri\\appdata\\local\\programs\\python\\python310\\lib\\site-packages (from spacy) (58.1.0)\n",
      "Requirement already satisfied: preshed<3.1.0,>=3.0.2 in c:\\users\\patri\\appdata\\local\\programs\\python\\python310\\lib\\site-packages (from spacy) (3.0.6)\n",
      "Requirement already satisfied: spacy-loggers<2.0.0,>=1.0.0 in c:\\users\\patri\\appdata\\local\\programs\\python\\python310\\lib\\site-packages (from spacy) (1.0.1)\n",
      "Requirement already satisfied: pathy>=0.3.5 in c:\\users\\patri\\appdata\\local\\programs\\python\\python310\\lib\\site-packages (from spacy) (0.6.1)\n",
      "Requirement already satisfied: blis<0.8.0,>=0.4.0 in c:\\users\\patri\\appdata\\local\\programs\\python\\python310\\lib\\site-packages (from spacy) (0.7.5)\n",
      "Requirement already satisfied: thinc<8.1.0,>=8.0.12 in c:\\users\\patri\\appdata\\local\\programs\\python\\python310\\lib\\site-packages (from spacy) (8.0.13)\n",
      "Requirement already satisfied: requests<3.0.0,>=2.13.0 in c:\\users\\patri\\appdata\\local\\programs\\python\\python310\\lib\\site-packages (from spacy) (2.27.1)\n",
      "Requirement already satisfied: cymem<2.1.0,>=2.0.2 in c:\\users\\patri\\appdata\\local\\programs\\python\\python310\\lib\\site-packages (from spacy) (2.0.6)\n",
      "Requirement already satisfied: wasabi<1.1.0,>=0.8.1 in c:\\users\\patri\\appdata\\local\\programs\\python\\python310\\lib\\site-packages (from spacy) (0.9.0)\n",
      "Requirement already satisfied: packaging>=20.0 in c:\\users\\patri\\appdata\\local\\programs\\python\\python310\\lib\\site-packages (from spacy) (21.3)\n",
      "Requirement already satisfied: pyparsing!=3.0.5,>=2.0.2 in c:\\users\\patri\\appdata\\local\\programs\\python\\python310\\lib\\site-packages (from packaging>=20.0->spacy) (3.0.6)\n",
      "Requirement already satisfied: smart-open<6.0.0,>=5.0.0 in c:\\users\\patri\\appdata\\local\\programs\\python\\python310\\lib\\site-packages (from pathy>=0.3.5->spacy) (5.2.1)\n",
      "Requirement already satisfied: typing-extensions>=3.7.4.3 in c:\\users\\patri\\appdata\\roaming\\python\\python310\\site-packages (from pydantic!=1.8,!=1.8.1,<1.9.0,>=1.7.4->spacy) (4.0.1)\n",
      "Requirement already satisfied: idna<4,>=2.5 in c:\\users\\patri\\appdata\\local\\programs\\python\\python310\\lib\\site-packages (from requests<3.0.0,>=2.13.0->spacy) (3.3)\n",
      "Requirement already satisfied: certifi>=2017.4.17 in c:\\users\\patri\\appdata\\local\\programs\\python\\python310\\lib\\site-packages (from requests<3.0.0,>=2.13.0->spacy) (2021.10.8)\n",
      "Requirement already satisfied: urllib3<1.27,>=1.21.1 in c:\\users\\patri\\appdata\\local\\programs\\python\\python310\\lib\\site-packages (from requests<3.0.0,>=2.13.0->spacy) (1.26.8)\n",
      "Requirement already satisfied: charset-normalizer~=2.0.0 in c:\\users\\patri\\appdata\\local\\programs\\python\\python310\\lib\\site-packages (from requests<3.0.0,>=2.13.0->spacy) (2.0.10)"
     ]
    },
    {
     "name": "stderr",
     "output_type": "stream",
     "text": [
      "WARNING: You are using pip version 21.2.4; however, version 21.3.1 is available.\n",
      "You should consider upgrading via the 'c:\\Users\\patri\\AppData\\Local\\Programs\\Python\\Python310\\python.exe -m pip install --upgrade pip' command.\n"
     ]
    },
    {
     "name": "stdout",
     "output_type": "stream",
     "text": [
      "\n",
      "Requirement already satisfied: colorama in c:\\users\\patri\\appdata\\roaming\\python\\python310\\site-packages (from tqdm<5.0.0,>=4.38.0->spacy) (0.4.4)\n",
      "Requirement already satisfied: click<9.0.0,>=7.1.1 in c:\\users\\patri\\appdata\\roaming\\python\\python310\\site-packages (from typer<0.5.0,>=0.3.0->spacy) (8.0.3)\n",
      "Requirement already satisfied: MarkupSafe>=2.0 in c:\\users\\patri\\appdata\\local\\programs\\python\\python310\\lib\\site-packages (from jinja2->spacy) (2.0.1)\n",
      "Requirement already satisfied: sklearn in c:\\users\\patri\\appdata\\local\\programs\\python\\python310\\lib\\site-packages (0.0)\n",
      "Requirement already satisfied: scikit-learn in c:\\users\\patri\\appdata\\local\\programs\\python\\python310\\lib\\site-packages (from sklearn) (1.0.2)\n",
      "Requirement already satisfied: numpy>=1.14.6 in c:\\users\\patri\\appdata\\local\\programs\\python\\python310\\lib\\site-packages (from scikit-learn->sklearn) (1.22.0)\n",
      "Requirement already satisfied: scipy>=1.1.0 in c:\\users\\patri\\appdata\\local\\programs\\python\\python310\\lib\\site-packages (from scikit-learn->sklearn) (1.7.3)\n",
      "Requirement already satisfied: joblib>=0.11 in c:\\users\\patri\\appdata\\local\\programs\\python\\python310\\lib\\site-packages (from scikit-learn->sklearn) (1.1.0)\n",
      "Requirement already satisfied: threadpoolctl>=2.0.0 in c:\\users\\patri\\appdata\\local\\programs\\python\\python310\\lib\\site-packages (from scikit-learn->sklearn) (3.0.0)\n"
     ]
    },
    {
     "name": "stderr",
     "output_type": "stream",
     "text": [
      "WARNING: You are using pip version 21.2.4; however, version 21.3.1 is available.\n",
      "You should consider upgrading via the 'c:\\Users\\patri\\AppData\\Local\\Programs\\Python\\Python310\\python.exe -m pip install --upgrade pip' command.\n"
     ]
    },
    {
     "name": "stdout",
     "output_type": "stream",
     "text": [
      "Collecting en-core-web-sm==3.2.0\n",
      "  Downloading https://github.com/explosion/spacy-models/releases/download/en_core_web_sm-3.2.0/en_core_web_sm-3.2.0-py3-none-any.whl (13.9 MB)\n",
      "Requirement already satisfied: spacy<3.3.0,>=3.2.0 in c:\\users\\patri\\appdata\\local\\programs\\python\\python310\\lib\\site-packages (from en-core-web-sm==3.2.0) (3.2.1)\n",
      "Requirement already satisfied: tqdm<5.0.0,>=4.38.0 in c:\\users\\patri\\appdata\\local\\programs\\python\\python310\\lib\\site-packages (from spacy<3.3.0,>=3.2.0->en-core-web-sm==3.2.0) (4.62.3)\n",
      "Requirement already satisfied: requests<3.0.0,>=2.13.0 in c:\\users\\patri\\appdata\\local\\programs\\python\\python310\\lib\\site-packages (from spacy<3.3.0,>=3.2.0->en-core-web-sm==3.2.0) (2.27.1)\n",
      "Requirement already satisfied: packaging>=20.0 in c:\\users\\patri\\appdata\\local\\programs\\python\\python310\\lib\\site-packages (from spacy<3.3.0,>=3.2.0->en-core-web-sm==3.2.0) (21.3)\n",
      "Requirement already satisfied: catalogue<2.1.0,>=2.0.6 in c:\\users\\patri\\appdata\\local\\programs\\python\\python310\\lib\\site-packages (from spacy<3.3.0,>=3.2.0->en-core-web-sm==3.2.0) (2.0.6)\n",
      "Requirement already satisfied: numpy>=1.15.0 in c:\\users\\patri\\appdata\\local\\programs\\python\\python310\\lib\\site-packages (from spacy<3.3.0,>=3.2.0->en-core-web-sm==3.2.0) (1.22.0)\n",
      "Requirement already satisfied: thinc<8.1.0,>=8.0.12 in c:\\users\\patri\\appdata\\local\\programs\\python\\python310\\lib\\site-packages (from spacy<3.3.0,>=3.2.0->en-core-web-sm==3.2.0) (8.0.13)\n",
      "Requirement already satisfied: setuptools in c:\\users\\patri\\appdata\\local\\programs\\python\\python310\\lib\\site-packages (from spacy<3.3.0,>=3.2.0->en-core-web-sm==3.2.0) (58.1.0)\n",
      "Requirement already satisfied: pydantic!=1.8,!=1.8.1,<1.9.0,>=1.7.4 in c:\\users\\patri\\appdata\\local\\programs\\python\\python310\\lib\\site-packages (from spacy<3.3.0,>=3.2.0->en-core-web-sm==3.2.0) (1.8.2)\n",
      "Requirement already satisfied: spacy-loggers<2.0.0,>=1.0.0 in c:\\users\\patri\\appdata\\local\\programs\\python\\python310\\lib\\site-packages (from spacy<3.3.0,>=3.2.0->en-core-web-sm==3.2.0) (1.0.1)\n",
      "Requirement already satisfied: spacy-legacy<3.1.0,>=3.0.8 in c:\\users\\patri\\appdata\\local\\programs\\python\\python310\\lib\\site-packages (from spacy<3.3.0,>=3.2.0->en-core-web-sm==3.2.0) (3.0.8)\n",
      "Requirement already satisfied: cymem<2.1.0,>=2.0.2 in c:\\users\\patri\\appdata\\local\\programs\\python\\python310\\lib\\site-packages (from spacy<3.3.0,>=3.2.0->en-core-web-sm==3.2.0) (2.0.6)\n",
      "Requirement already satisfied: jinja2 in c:\\users\\patri\\appdata\\local\\programs\\python\\python310\\lib\\site-packages (from spacy<3.3.0,>=3.2.0->en-core-web-sm==3.2.0) (3.0.3)\n",
      "Requirement already satisfied: srsly<3.0.0,>=2.4.1 in c:\\users\\patri\\appdata\\local\\programs\\python\\python310\\lib\\site-packages (from spacy<3.3.0,>=3.2.0->en-core-web-sm==3.2.0) (2.4.2)\n",
      "Requirement already satisfied: wasabi<1.1.0,>=0.8.1 in c:\\users\\patri\\appdata\\local\\programs\\python\\python310\\lib\\site-packages (from spacy<3.3.0,>=3.2.0->en-core-web-sm==3.2.0) (0.9.0)\n",
      "Requirement already satisfied: pathy>=0.3.5 in c:\\users\\patri\\appdata\\local\\programs\\python\\python310\\lib\\site-packages (from spacy<3.3.0,>=3.2.0->en-core-web-sm==3.2.0) (0.6.1)\n",
      "Requirement already satisfied: typer<0.5.0,>=0.3.0 in c:\\users\\patri\\appdata\\local\\programs\\python\\python310\\lib\\site-packages (from spacy<3.3.0,>=3.2.0->en-core-web-sm==3.2.0) (0.4.0)"
     ]
    },
    {
     "name": "stderr",
     "output_type": "stream",
     "text": [
      "WARNING: You are using pip version 21.2.4; however, version 21.3.1 is available.\n",
      "You should consider upgrading via the 'c:\\Users\\patri\\AppData\\Local\\Programs\\Python\\Python310\\python.exe -m pip install --upgrade pip' command.\n"
     ]
    },
    {
     "name": "stdout",
     "output_type": "stream",
     "text": [
      "\n",
      "Requirement already satisfied: preshed<3.1.0,>=3.0.2 in c:\\users\\patri\\appdata\\local\\programs\\python\\python310\\lib\\site-packages (from spacy<3.3.0,>=3.2.0->en-core-web-sm==3.2.0) (3.0.6)\n",
      "Requirement already satisfied: blis<0.8.0,>=0.4.0 in c:\\users\\patri\\appdata\\local\\programs\\python\\python310\\lib\\site-packages (from spacy<3.3.0,>=3.2.0->en-core-web-sm==3.2.0) (0.7.5)\n",
      "Requirement already satisfied: langcodes<4.0.0,>=3.2.0 in c:\\users\\patri\\appdata\\local\\programs\\python\\python310\\lib\\site-packages (from spacy<3.3.0,>=3.2.0->en-core-web-sm==3.2.0) (3.3.0)\n",
      "Requirement already satisfied: murmurhash<1.1.0,>=0.28.0 in c:\\users\\patri\\appdata\\local\\programs\\python\\python310\\lib\\site-packages (from spacy<3.3.0,>=3.2.0->en-core-web-sm==3.2.0) (1.0.6)\n",
      "Requirement already satisfied: pyparsing!=3.0.5,>=2.0.2 in c:\\users\\patri\\appdata\\local\\programs\\python\\python310\\lib\\site-packages (from packaging>=20.0->spacy<3.3.0,>=3.2.0->en-core-web-sm==3.2.0) (3.0.6)\n",
      "Requirement already satisfied: smart-open<6.0.0,>=5.0.0 in c:\\users\\patri\\appdata\\local\\programs\\python\\python310\\lib\\site-packages (from pathy>=0.3.5->spacy<3.3.0,>=3.2.0->en-core-web-sm==3.2.0) (5.2.1)\n",
      "Requirement already satisfied: typing-extensions>=3.7.4.3 in c:\\users\\patri\\appdata\\roaming\\python\\python310\\site-packages (from pydantic!=1.8,!=1.8.1,<1.9.0,>=1.7.4->spacy<3.3.0,>=3.2.0->en-core-web-sm==3.2.0) (4.0.1)\n",
      "Requirement already satisfied: idna<4,>=2.5 in c:\\users\\patri\\appdata\\local\\programs\\python\\python310\\lib\\site-packages (from requests<3.0.0,>=2.13.0->spacy<3.3.0,>=3.2.0->en-core-web-sm==3.2.0) (3.3)\n",
      "Requirement already satisfied: urllib3<1.27,>=1.21.1 in c:\\users\\patri\\appdata\\local\\programs\\python\\python310\\lib\\site-packages (from requests<3.0.0,>=2.13.0->spacy<3.3.0,>=3.2.0->en-core-web-sm==3.2.0) (1.26.8)\n",
      "Requirement already satisfied: charset-normalizer~=2.0.0 in c:\\users\\patri\\appdata\\local\\programs\\python\\python310\\lib\\site-packages (from requests<3.0.0,>=2.13.0->spacy<3.3.0,>=3.2.0->en-core-web-sm==3.2.0) (2.0.10)\n",
      "Requirement already satisfied: certifi>=2017.4.17 in c:\\users\\patri\\appdata\\local\\programs\\python\\python310\\lib\\site-packages (from requests<3.0.0,>=2.13.0->spacy<3.3.0,>=3.2.0->en-core-web-sm==3.2.0) (2021.10.8)\n",
      "Requirement already satisfied: colorama in c:\\users\\patri\\appdata\\roaming\\python\\python310\\site-packages (from tqdm<5.0.0,>=4.38.0->spacy<3.3.0,>=3.2.0->en-core-web-sm==3.2.0) (0.4.4)\n",
      "Requirement already satisfied: click<9.0.0,>=7.1.1 in c:\\users\\patri\\appdata\\roaming\\python\\python310\\site-packages (from typer<0.5.0,>=0.3.0->spacy<3.3.0,>=3.2.0->en-core-web-sm==3.2.0) (8.0.3)\n",
      "Requirement already satisfied: MarkupSafe>=2.0 in c:\\users\\patri\\appdata\\local\\programs\\python\\python310\\lib\\site-packages (from jinja2->spacy<3.3.0,>=3.2.0->en-core-web-sm==3.2.0) (2.0.1)\n",
      "✔ Download and installation successful\n",
      "You can now load the package via spacy.load('en_core_web_sm')\n",
      "Requirement already satisfied: tweet-preprocessor in c:\\users\\patri\\appdata\\local\\programs\\python\\python310\\lib\\site-packages (0.6.0)\n"
     ]
    },
    {
     "name": "stderr",
     "output_type": "stream",
     "text": [
      "WARNING: You are using pip version 21.2.4; however, version 21.3.1 is available.\n",
      "You should consider upgrading via the 'c:\\Users\\patri\\AppData\\Local\\Programs\\Python\\Python310\\python.exe -m pip install --upgrade pip' command.\n"
     ]
    }
   ],
   "source": [
    "# Install a pip package in the current Jupyter kernel\n",
    "import sys\n",
    "!{sys.executable} -m pip install numpy\n",
    "!{sys.executable} -m pip install pandas\n",
    "!{sys.executable} -m pip install spacy\n",
    "!{sys.executable} -m pip install sklearn\n",
    "!{sys.executable} -m spacy download en_core_web_sm\n",
    "!{sys.executable} -m pip install tweet-preprocessor"
   ]
  },
  {
   "cell_type": "code",
   "execution_count": 2,
   "metadata": {},
   "outputs": [],
   "source": [
    "import spacy\n",
    "import numpy as np\n",
    "import pandas as pd\n",
    "from spacy.lang.en import English\n",
    "nlp = English()\n",
    "# Import dataset into Corona\n",
    "coronaTrain = pd.read_csv('Corona_NLP_train.csv',encoding='latin-1')\n",
    "# We will use Coronatest later\n",
    "coronaTest = pd.read_csv('Corona_NLP_test.csv', encoding='latin-1')"
   ]
  },
  {
   "cell_type": "code",
   "execution_count": 3,
   "metadata": {},
   "outputs": [
    {
     "data": {
      "text/plain": [
       "<AxesSubplot:>"
      ]
     },
     "execution_count": 3,
     "metadata": {},
     "output_type": "execute_result"
    },
    {
     "data": {
      "image/png": "[encoded data removed]",
      "text/plain": [
       "<Figure size 432x288 with 1 Axes>"
      ]
     },
     "metadata": {
      "needs_background": "light"
     },
     "output_type": "display_data"
    }
   ],
   "source": [
    "# Plot the counts by sentiment\n",
    "coronaTrain.Sentiment.value_counts().sort_values().plot(kind = 'barh')"
   ]
  },
  {
   "cell_type": "code",
   "execution_count": 4,
   "metadata": {},
   "outputs": [
    {
     "data": {
      "text/plain": [
       "<AxesSubplot:>"
      ]
     },
     "execution_count": 4,
     "metadata": {},
     "output_type": "execute_result"
    },
    {
     "data": {
      "image/png": "[encoded data removed]",
      "text/plain": [
       "<Figure size 432x288 with 1 Axes>"
      ]
     },
     "metadata": {
      "needs_background": "light"
     },
     "output_type": "display_data"
    }
   ],
   "source": [
    "# From the plot below we need to undersample positive, negative, neutral and extremely positive to have\n",
    "# the same frequency as extremely negative\n",
    "# First we find out how many are extremely negative\n",
    "extremelyNegativeSum = coronaTrain['Sentiment'].loc[coronaTrain.Sentiment == 'Extremely Negative'].count()\n",
    "extremelyNegative = coronaTrain.loc[coronaTrain.Sentiment == 'Extremely Negative']\n",
    "# Now using that value - we randomly select for each type and create a new dataset\n",
    "extremelyPositive = coronaTrain[coronaTrain['Sentiment'] == 'Extremely Positive'].sample(extremelyNegativeSum)\n",
    "neutral = coronaTrain[coronaTrain['Sentiment'] == 'Neutral'].sample(extremelyNegativeSum)\n",
    "negative = coronaTrain[coronaTrain['Sentiment'] == 'Negative'].sample(extremelyNegativeSum)\n",
    "positive = coronaTrain[coronaTrain['Sentiment'] == 'Positive'].sample(extremelyNegativeSum)\n",
    "# Concatenate these datasets together\n",
    "pdList = [extremelyNegative,extremelyPositive,neutral,negative,positive]\n",
    "coronaTrainNew = pd.concat(pdList)\n",
    "# Plot the new dataset\n",
    "coronaTrainNew.Sentiment.value_counts().sort_values().plot(kind = 'barh')"
   ]
  },
  {
   "cell_type": "code",
   "execution_count": 5,
   "metadata": {},
   "outputs": [],
   "source": [
    "# The first step we take is to remove stopwords\n",
    "# We take the list of stopwords from the package spacy\n",
    "nlp = spacy.load('en_core_web_sm')\n",
    "from spacy.lang.en.stop_words import STOP_WORDS\n",
    "coronaTrainNew['tokenizedText'] = coronaTrainNew['OriginalTweet'].apply(lambda x: ' '.join([word for word in x.split() if word not in (STOP_WORDS)]))"
   ]
  },
  {
   "cell_type": "code",
   "execution_count": 6,
   "metadata": {},
   "outputs": [
    {
     "name": "stdout",
     "output_type": "stream",
     "text": [
      "#coronavirus               8116\n",
      "I                          5680\n",
      "prices                     4009\n",
      "food                       3563\n",
      "store                      3442\n",
      "                           ... \n",
      "Engine                        1\n",
      "astounding                    1\n",
      "https://t.co/S7nTB92g9H       1\n",
      "today.@RollingStones          1\n",
      "https://t.co/UwmR6c5y2D       1\n",
      "Length: 101614, dtype: int64\n"
     ]
    }
   ],
   "source": [
    "# Once we have applied stopwords, we look to see if there are any other obvious \n",
    "# stopwords that are still common\n",
    "print(coronaTrainNew['tokenizedText'].str.split(expand=True).stack().value_counts())\n"
   ]
  },
  {
   "cell_type": "code",
   "execution_count": 7,
   "metadata": {},
   "outputs": [
    {
     "name": "stdout",
     "output_type": "stream",
     "text": [
      "#coronavirus               8116\n",
      "prices                     4009\n",
      "food                       3563\n",
      "store                      3442\n",
      "grocery                    3438\n",
      "                           ... \n",
      "Engine                        1\n",
      "astounding                    1\n",
      "https://t.co/S7nTB92g9H       1\n",
      "today.@RollingStones          1\n",
      "https://t.co/UwmR6c5y2D       1\n",
      "Length: 101613, dtype: int64\n"
     ]
    }
   ],
   "source": [
    "# The only obvious one is I\n",
    "nlp.Defaults.stop_words |= {\"I\"}\n",
    "coronaTrainNew['tokenizedText'] = coronaTrainNew['OriginalTweet'].apply(lambda x: ' '.join([word for word in x.split() if word not in (STOP_WORDS)]))\n",
    "print(coronaTrainNew['tokenizedText'].str.split(expand=True).stack().value_counts())"
   ]
  },
  {
   "cell_type": "code",
   "execution_count": 8,
   "metadata": {},
   "outputs": [
    {
     "name": "stderr",
     "output_type": "stream",
     "text": [
      "C:\\Users\\patri\\AppData\\Local\\Temp/ipykernel_3988/3958160672.py:5: FutureWarning: The default value of regex will change from True to False in a future version.\n",
      "  coronaTrainNew['tokenizedText'] = coronaTrainNew['tokenizedText'].str.replace('[^\\w\\s]','')\n"
     ]
    }
   ],
   "source": [
    "# Next we process the text using the tweet preprocessor package\n",
    "import preprocessor as p\n",
    "coronaTrainNew['tokenizedText'] = coronaTrainNew['tokenizedText'].apply(lambda x: p.clean(x))\n",
    "# Remove punctuation and other various criteria from this\n",
    "coronaTrainNew['tokenizedText'] = coronaTrainNew['tokenizedText'].str.replace('[^\\w\\s]','')\n"
   ]
  },
  {
   "cell_type": "code",
   "execution_count": 37,
   "metadata": {},
   "outputs": [
    {
     "name": "stdout",
     "output_type": "stream",
     "text": [
      "  (0, 12993)\t0.24581784482565833\n",
      "  (0, 12953)\t0.1486663499718212\n",
      "  (0, 12559)\t0.12834810121585027\n",
      "  (0, 12329)\t0.1849281484892924\n",
      "  (0, 11661)\t0.26542062136045186\n",
      "  (0, 10404)\t0.2914781668818174\n",
      "  (0, 9582)\t0.2133810776400145\n",
      "  (0, 9192)\t0.3878396658224676\n",
      "  (0, 9159)\t0.16850070808524992\n",
      "  (0, 8986)\t0.20978365148137673\n",
      "  (0, 8673)\t0.22786215195160173\n",
      "  (0, 7948)\t0.24781463142009313\n",
      "  (0, 6902)\t0.19455526074992924\n",
      "  (0, 6418)\t0.20439636903478123\n",
      "  (0, 5145)\t0.1320331199868056\n",
      "  (0, 4320)\t0.2888730080395687\n",
      "  (0, 3929)\t0.1903979574980222\n",
      "  (0, 2072)\t0.3360732685753625\n",
      "  (1, 14317)\t0.15697546302142248\n",
      "  (1, 11269)\t0.2590008570616227\n",
      "  (1, 9562)\t0.22832782358313775\n",
      "  (1, 8555)\t0.13895690268167818\n",
      "  (1, 8469)\t0.24303608512037306\n",
      "  (1, 7506)\t0.19419808543355835\n",
      "  (1, 7468)\t0.17910533178736668\n",
      "  :\t:\n",
      "  (27404, 13003)\t0.0921015779887581\n",
      "  (27404, 12983)\t0.11419647970673022\n",
      "  (27404, 12586)\t0.11544780272289061\n",
      "  (27404, 12358)\t0.06636524882098968\n",
      "  (27404, 12248)\t0.17069975536594814\n",
      "  (27404, 12006)\t0.13663630074492025\n",
      "  (27404, 11941)\t0.18216701906134822\n",
      "  (27404, 10921)\t0.15185664576995725\n",
      "  (27404, 10364)\t0.17069975536594814\n",
      "  (27404, 10308)\t0.15056102749026481\n",
      "  (27404, 8836)\t0.103031916415719\n",
      "  (27404, 8574)\t0.23376107199765916\n",
      "  (27404, 8505)\t0.08702081466576113\n",
      "  (27404, 7694)\t0.23376107199765916\n",
      "  (27404, 7242)\t0.22711586436665754\n",
      "  (27404, 7127)\t0.5543544416997556\n",
      "  (27404, 5736)\t0.06867680164609238\n",
      "  (27404, 5369)\t0.16971666499782773\n",
      "  (27404, 4798)\t0.13629408504731239\n",
      "  (27404, 3922)\t0.1757289799678277\n",
      "  (27404, 3845)\t0.1546886536159903\n",
      "  (27404, 3562)\t0.1549411057145215\n",
      "  (27404, 3233)\t0.2177499702477013\n",
      "  (27404, 949)\t0.22196144088324588\n",
      "  (27404, 601)\t0.15674485469878635\n"
     ]
    }
   ],
   "source": [
    "# Next step is to convert the document into a vector representation.\n",
    "# Take our Pandas into two separate parts - text and labels\n",
    "text = coronaTrainNew['tokenizedText'].tolist()\n",
    "labels = coronaTrainNew['Sentiment'].tolist()\n",
    "# Next we use scikit learn to vectorize the text\n",
    "from sklearn.feature_extraction.text import TfidfVectorizer\n",
    "vectorizer = TfidfVectorizer(max_df=0.5, min_df=2, use_idf=True)\n",
    "X = vectorizer.fit(text)\n",
    "X = vectorizer.transform(text)\n",
    "print(X)"
   ]
  },
  {
   "cell_type": "code",
   "execution_count": 38,
   "metadata": {},
   "outputs": [
    {
     "data": {
      "text/plain": [
       "GaussianNB()"
      ]
     },
     "execution_count": 38,
     "metadata": {},
     "output_type": "execute_result"
    }
   ],
   "source": [
    "# Applying the Gaussian Naive Bayes method from sklearn\n",
    "from sklearn.naive_bayes import GaussianNB\n",
    "gnb = GaussianNB()\n",
    "gnb.fit(X.toarray(), labels)"
   ]
  },
  {
   "cell_type": "code",
   "execution_count": 39,
   "metadata": {},
   "outputs": [
    {
     "name": "stderr",
     "output_type": "stream",
     "text": [
      "C:\\Users\\patri\\AppData\\Local\\Temp/ipykernel_3988/3861609747.py:6: FutureWarning: The default value of regex will change from True to False in a future version.\n",
      "  coronaTest['text'] = coronaTest['text'].str.replace('[^\\w\\s]','')\n"
     ]
    }
   ],
   "source": [
    "# Next we predict the test set text and compare to the actual labels\n",
    "# First we need to convert the test text in the same way as before (e.g. remove stopwords etc)\n",
    "coronaTest['text'] = coronaTest['OriginalTweet'].apply(lambda x: ' '.join([word for word in x.split() if word not in (STOP_WORDS)]))\n",
    "coronaTest['text'] = coronaTest['text'].apply(lambda x: p.clean(x))\n",
    "# Remove punctuation and other various criteria from this\n",
    "coronaTest['text'] = coronaTest['text'].str.replace('[^\\w\\s]','')\n",
    "# Next step is to convert the document into a vector representation.\n",
    "# Take our Pandas into two separate parts - text and labels\n",
    "testText = coronaTest['text'].tolist()\n",
    "testLabels = coronaTest['Sentiment'].tolist()\n",
    "# Next we use scikit learn to vectorize the text\n",
    "Xtest = vectorizer.transform(testText)"
   ]
  },
  {
   "cell_type": "code",
   "execution_count": 40,
   "metadata": {},
   "outputs": [
    {
     "name": "stdout",
     "output_type": "stream",
     "text": [
      "0.2996313849394418\n"
     ]
    }
   ],
   "source": [
    "# Predict on the processed test text\n",
    "testPreds = gnb.predict(Xtest.toarray())\n",
    "# workout accuracy\n",
    "hit = 0\n",
    "miss = 0\n",
    "for i in range(len(testPreds)):\n",
    "    if testPreds[i] == testLabels[i]:\n",
    "        hit += 1\n",
    "    else:\n",
    "        miss += 1\n",
    "accuracy = (hit)/(hit+miss)\n",
    "print(accuracy)"
   ]
  },
  {
   "cell_type": "code",
   "execution_count": 27,
   "metadata": {},
   "outputs": [
    {
     "name": "stdout",
     "output_type": "stream",
     "text": [
      "3798\n"
     ]
    }
   ],
   "source": [
    "# The second solution we are going to focus on is support vector machines\n",
    "from sklearn.svm import SVC \n",
    "svm = SVC() \n",
    "svm.fit(X, labels)"
   ]
  },
  {
   "cell_type": "code",
   "execution_count": 7,
   "metadata": {},
   "outputs": [],
   "source": [
    "SVMPredict = svm.predict(X)\n",
    "hit = 0\n",
    "miss = 0\n",
    "for i in range(len(SVMPredict)):\n",
    "    if SVMPredict[i] == labels[i]:\n",
    "        hit += 1\n",
    "    else:\n",
    "        miss += 1\n",
    "accuracy = (hit)/(hit+miss)\n",
    "print(accuracy)"
   ]
  },
  {
   "cell_type": "code",
   "execution_count": 8,
   "metadata": {},
   "outputs": [],
   "source": []
  },
  {
   "cell_type": "code",
   "execution_count": 9,
   "metadata": {},
   "outputs": [],
   "source": [
    "\n"
   ]
  },
  {
   "cell_type": "code",
   "execution_count": 6,
   "metadata": {},
   "outputs": [
    {
     "name": "stdout",
     "output_type": "stream",
     "text": [
      "[0. 0. 0. ... 0. 0. 0.]\n"
     ]
    }
   ],
   "source": [
    "\n"
   ]
  },
  {
   "cell_type": "code",
   "execution_count": 10,
   "metadata": {},
   "outputs": [
    {
     "data": {
      "text/plain": [
       "GaussianNB()"
      ]
     },
     "execution_count": 10,
     "metadata": {},
     "output_type": "execute_result"
    }
   ],
   "source": []
  },
  {
   "cell_type": "code",
   "execution_count": 11,
   "metadata": {},
   "outputs": [],
   "source": []
  },
  {
   "cell_type": "code",
   "execution_count": 12,
   "metadata": {},
   "outputs": [
    {
     "name": "stdout",
     "output_type": "stream",
     "text": [
      "0.5505503316568263\n"
     ]
    }
   ],
   "source": []
  },
  {
   "cell_type": "code",
   "execution_count": 13,
   "metadata": {},
   "outputs": [],
   "source": []
  },
  {
   "cell_type": "code",
   "execution_count": null,
   "metadata": {},
   "outputs": [
    {
     "name": "stdout",
     "output_type": "stream",
     "text": [
      "0.9617804990645576\n"
     ]
    }
   ],
   "source": []
  },
  {
   "cell_type": "code",
   "execution_count": null,
   "metadata": {},
   "outputs": [],
   "source": []
  },
  {
   "cell_type": "code",
   "execution_count": null,
   "metadata": {},
   "outputs": [],
   "source": []
  },
  {
   "cell_type": "code",
   "execution_count": null,
   "metadata": {},
   "outputs": [],
   "source": []
  }
 ],
 "metadata": {
  "interpreter": {
   "hash": "d1252bd3324bb4cfe5f9a347846ca1874de916cd42e7b6635a852f64f21954e7"
  },
  "kernelspec": {
   "display_name": "Python 3.10.1 64-bit",
   "language": "python",
   "name": "python3"
  },
  "language_info": {
   "codemirror_mode": {
    "name": "ipython",
    "version": 3
   },
   "file_extension": ".py",
   "mimetype": "text/x-python",
   "name": "python",
   "nbconvert_exporter": "python",
   "pygments_lexer": "ipython3",
   "version": "3.10.1"
  },
  "orig_nbformat": 4
 },
 "nbformat": 4,
 "nbformat_minor": 2
}
