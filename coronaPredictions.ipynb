{
 "cells": [
  {
   "cell_type": "code",
   "execution_count": 2,
   "metadata": {},
   "outputs": [],
   "source": [
    "# Install a pip package in the current Jupyter kernel\n",
    "import sys\n",
    "# !{sys.executable} -m pip install numpy\n",
    "# !{sys.executable} -m pip install pandas\n",
    "# !{sys.executable} -m pip install spacy\n",
    "# !{sys.executable} -m pip install sklearn\n",
    "# !{sys.executable} -m spacy download en_core_web_sm\n",
    "# !{sys.executable} -m pip install tweet-preprocessor"
   ]
  },
  {
   "cell_type": "code",
   "execution_count": 3,
   "metadata": {},
   "outputs": [],
   "source": [
    "import spacy\n",
    "import numpy as np\n",
    "import pandas as pd\n",
    "from spacy.lang.en import English\n",
    "nlp = English()\n",
    "# Import dataset into Corona\n",
    "coronaTrain = pd.read_csv('Corona_NLP_train.csv',encoding='latin-1')\n",
    "# We will use Coronatest later\n",
    "coronaTest = pd.read_csv('Corona_NLP_test.csv', encoding='latin-1')"
   ]
  },
  {
   "cell_type": "code",
   "execution_count": 4,
   "metadata": {},
   "outputs": [
    {
     "data": {
      "text/plain": [
       "<AxesSubplot:>"
      ]
     },
     "execution_count": 4,
     "metadata": {},
     "output_type": "execute_result"
    },
    {
     "data": {
      "image/png": "[encoded data removed]",
      "text/plain": [
       "<Figure size 432x288 with 1 Axes>"
      ]
     },
     "metadata": {
      "needs_background": "light"
     },
     "output_type": "display_data"
    }
   ],
   "source": [
    "# Plot the counts by sentiment\n",
    "coronaTrain.Sentiment.value_counts().sort_values().plot(kind = 'barh')"
   ]
  },
  {
   "cell_type": "code",
   "execution_count": 5,
   "metadata": {},
   "outputs": [
    {
     "data": {
      "text/plain": [
       "<AxesSubplot:>"
      ]
     },
     "execution_count": 5,
     "metadata": {},
     "output_type": "execute_result"
    },
    {
     "data": {
      "image/png": "[encoded data removed]",
      "text/plain": [
       "<Figure size 432x288 with 1 Axes>"
      ]
     },
     "metadata": {
      "needs_background": "light"
     },
     "output_type": "display_data"
    }
   ],
   "source": [
    "# From the plot below we need to undersample positive, negative, neutral and extremely positive to have\n",
    "# the same frequency as extremely negative\n",
    "# First we find out how many are extremely negative\n",
    "extremelyNegativeSum = coronaTrain['Sentiment'].loc[coronaTrain.Sentiment == 'Extremely Negative'].count()\n",
    "extremelyNegative = coronaTrain.loc[coronaTrain.Sentiment == 'Extremely Negative']\n",
    "# Now using that value - we randomly select for each type and create a new dataset\n",
    "extremelyPositive = coronaTrain[coronaTrain['Sentiment'] == 'Extremely Positive'].sample(extremelyNegativeSum)\n",
    "neutral = coronaTrain[coronaTrain['Sentiment'] == 'Neutral'].sample(extremelyNegativeSum)\n",
    "negative = coronaTrain[coronaTrain['Sentiment'] == 'Negative'].sample(extremelyNegativeSum)\n",
    "positive = coronaTrain[coronaTrain['Sentiment'] == 'Positive'].sample(extremelyNegativeSum)\n",
    "# Concatenate these datasets together\n",
    "pdList = [extremelyNegative,extremelyPositive,neutral,negative,positive]\n",
    "coronaTrainNew = pd.concat(pdList)\n",
    "# Plot the new dataset\n",
    "coronaTrainNew.Sentiment.value_counts().sort_values().plot(kind = 'barh')"
   ]
  },
  {
   "cell_type": "code",
   "execution_count": 6,
   "metadata": {},
   "outputs": [],
   "source": [
    "# The first step we take is to remove stopwords\n",
    "# We take the list of stopwords from the package spacy\n",
    "nlp = spacy.load('en_core_web_sm')\n",
    "from spacy.lang.en.stop_words import STOP_WORDS\n",
    "coronaTrainNew['tokenizedText'] = coronaTrainNew['OriginalTweet'].apply(lambda x: ' '.join([word for word in x.split() if word not in (STOP_WORDS)]))"
   ]
  },
  {
   "cell_type": "code",
   "execution_count": 7,
   "metadata": {},
   "outputs": [
    {
     "name": "stdout",
     "output_type": "stream",
     "text": [
      "#coronavirus               8127\n",
      "I                          5652\n",
      "prices                     4112\n",
      "food                       3561\n",
      "grocery                    3467\n",
      "                           ... \n",
      "@arielhelwani                 1\n",
      "#ESPNmma                      1\n",
      "#ESPN                         1\n",
      "#UFC                          1\n",
      "https://t.co/ROjymlPqa4       1\n",
      "Length: 101732, dtype: int64\n"
     ]
    }
   ],
   "source": [
    "# Once we have applied stopwords, we look to see if there are any other obvious \n",
    "# stopwords that are still common\n",
    "print(coronaTrainNew['tokenizedText'].str.split(expand=True).stack().value_counts())\n"
   ]
  },
  {
   "cell_type": "code",
   "execution_count": 8,
   "metadata": {},
   "outputs": [
    {
     "name": "stdout",
     "output_type": "stream",
     "text": [
      "#coronavirus               8127\n",
      "prices                     4112\n",
      "food                       3561\n",
      "grocery                    3467\n",
      "store                      3439\n",
      "                           ... \n",
      "@arielhelwani                 1\n",
      "#ESPNmma                      1\n",
      "#ESPN                         1\n",
      "#UFC                          1\n",
      "https://t.co/ROjymlPqa4       1\n",
      "Length: 101731, dtype: int64\n"
     ]
    }
   ],
   "source": [
    "# The only obvious one is I\n",
    "nlp.Defaults.stop_words |= {\"I\"}\n",
    "coronaTrainNew['tokenizedText'] = coronaTrainNew['OriginalTweet'].apply(lambda x: ' '.join([word for word in x.split() if word not in (STOP_WORDS)]))\n",
    "print(coronaTrainNew['tokenizedText'].str.split(expand=True).stack().value_counts())"
   ]
  },
  {
   "cell_type": "code",
   "execution_count": 9,
   "metadata": {},
   "outputs": [
    {
     "name": "stderr",
     "output_type": "stream",
     "text": [
      "C:\\Users\\patri\\AppData\\Local\\Temp/ipykernel_9004/3958160672.py:5: FutureWarning: The default value of regex will change from True to False in a future version.\n",
      "  coronaTrainNew['tokenizedText'] = coronaTrainNew['tokenizedText'].str.replace('[^\\w\\s]','')\n"
     ]
    }
   ],
   "source": [
    "# Next we process the text using the tweet preprocessor package\n",
    "import preprocessor as p\n",
    "coronaTrainNew['tokenizedText'] = coronaTrainNew['tokenizedText'].apply(lambda x: p.clean(x))\n",
    "# Remove punctuation and other various criteria from this\n",
    "coronaTrainNew['tokenizedText'] = coronaTrainNew['tokenizedText'].str.replace('[^\\w\\s]','')\n"
   ]
  },
  {
   "cell_type": "code",
   "execution_count": 10,
   "metadata": {},
   "outputs": [
    {
     "name": "stdout",
     "output_type": "stream",
     "text": [
      "  (0, 12954)\t0.24570287541501487\n",
      "  (0, 12912)\t0.1501407209631852\n",
      "  (0, 12526)\t0.12975100206674317\n",
      "  (0, 12298)\t0.18543375680088617\n",
      "  (0, 11612)\t0.26354177121177325\n",
      "  (0, 10375)\t0.2944748927014253\n",
      "  (0, 9553)\t0.2154075825516975\n",
      "  (0, 9174)\t0.38419420623308853\n",
      "  (0, 9144)\t0.1704013753251655\n",
      "  (0, 8982)\t0.21078210895470206\n",
      "  (0, 8668)\t0.22789501547409438\n",
      "  (0, 7942)\t0.25070667180050094\n",
      "  (0, 6857)\t0.19554829049433092\n",
      "  (0, 6381)\t0.20440267303120394\n",
      "  (0, 5106)\t0.13278069179232674\n",
      "  (0, 4293)\t0.288897873942237\n",
      "  (0, 3908)\t0.19093573234066497\n",
      "  (0, 2064)\t0.33146204026932397\n",
      "  (1, 14298)\t0.15641930725547132\n",
      "  (1, 11221)\t0.2654724710347197\n",
      "  (1, 9533)\t0.22720259140567306\n",
      "  (1, 8552)\t0.1393671944916044\n",
      "  (1, 8468)\t0.24677194120373863\n",
      "  (1, 7490)\t0.19193720799088468\n",
      "  (1, 7451)\t0.17623544193096025\n",
      "  :\t:\n",
      "  (27403, 3309)\t0.2840071437887111\n",
      "  (27403, 3042)\t0.40063536476164685\n",
      "  (27403, 1832)\t0.1854888178638274\n",
      "  (27403, 601)\t0.1408652951629517\n",
      "  (27404, 14094)\t0.1542047538611486\n",
      "  (27404, 14033)\t0.1326740232310453\n",
      "  (27404, 13720)\t0.25408661127132215\n",
      "  (27404, 13386)\t0.189468797498514\n",
      "  (27404, 13131)\t0.27730414220093647\n",
      "  (27404, 12910)\t0.15410269842688892\n",
      "  (27404, 12526)\t0.07816048293895006\n",
      "  (27404, 11213)\t0.19567607471457604\n",
      "  (27404, 10362)\t0.22398259946589885\n",
      "  (27404, 9885)\t0.2013300752013047\n",
      "  (27404, 9614)\t0.16128178061389795\n",
      "  (27404, 8935)\t0.14182882084457052\n",
      "  (27404, 8591)\t0.17910908509027404\n",
      "  (27404, 8158)\t0.18320653159727118\n",
      "  (27404, 7578)\t0.13800757571904648\n",
      "  (27404, 7517)\t0.22148980422474449\n",
      "  (27404, 6962)\t0.4321991555430124\n",
      "  (27404, 6852)\t0.19913675673800638\n",
      "  (27404, 6215)\t0.16667776315421215\n",
      "  (27404, 3426)\t0.1252847419653405\n",
      "  (27404, 1559)\t0.4154631097549325\n"
     ]
    }
   ],
   "source": [
    "# Next step is to convert the document into a vector representation.\n",
    "# Take our Pandas into two separate parts - text and labels\n",
    "text = coronaTrainNew['tokenizedText'].tolist()\n",
    "labels = coronaTrainNew['Sentiment'].tolist()\n",
    "# Next we use scikit learn to vectorize the text\n",
    "from sklearn.feature_extraction.text import TfidfVectorizer\n",
    "vectorizer = TfidfVectorizer(max_df=0.5, min_df=2, use_idf=True)\n",
    "X = vectorizer.fit(text)\n",
    "X = vectorizer.transform(text)\n",
    "print(X)"
   ]
  },
  {
   "cell_type": "code",
   "execution_count": 11,
   "metadata": {},
   "outputs": [
    {
     "data": {
      "text/plain": [
       "GaussianNB()"
      ]
     },
     "execution_count": 11,
     "metadata": {},
     "output_type": "execute_result"
    }
   ],
   "source": [
    "# Applying the Gaussian Naive Bayes method from sklearn\n",
    "from sklearn.naive_bayes import GaussianNB\n",
    "gnb = GaussianNB()\n",
    "gnb.fit(X.toarray(), labels)"
   ]
  },
  {
   "cell_type": "code",
   "execution_count": 12,
   "metadata": {},
   "outputs": [
    {
     "name": "stderr",
     "output_type": "stream",
     "text": [
      "C:\\Users\\patri\\AppData\\Local\\Temp/ipykernel_9004/3861609747.py:6: FutureWarning: The default value of regex will change from True to False in a future version.\n",
      "  coronaTest['text'] = coronaTest['text'].str.replace('[^\\w\\s]','')\n"
     ]
    }
   ],
   "source": [
    "# Next we predict the test set text and compare to the actual labels\n",
    "# First we need to convert the test text in the same way as before (e.g. remove stopwords etc)\n",
    "coronaTest['text'] = coronaTest['OriginalTweet'].apply(lambda x: ' '.join([word for word in x.split() if word not in (STOP_WORDS)]))\n",
    "coronaTest['text'] = coronaTest['text'].apply(lambda x: p.clean(x))\n",
    "# Remove punctuation and other various criteria from this\n",
    "coronaTest['text'] = coronaTest['text'].str.replace('[^\\w\\s]','')\n",
    "# Next step is to convert the document into a vector representation.\n",
    "# Take our Pandas into two separate parts - text and labels\n",
    "testText = coronaTest['text'].tolist()\n",
    "testLabels = coronaTest['Sentiment'].tolist()\n",
    "# Next we use scikit learn to vectorize the text\n",
    "Xtest = vectorizer.transform(testText)"
   ]
  },
  {
   "cell_type": "code",
   "execution_count": 13,
   "metadata": {},
   "outputs": [
    {
     "name": "stdout",
     "output_type": "stream",
     "text": [
      "0.2925223802001053\n"
     ]
    }
   ],
   "source": [
    "# Predict on the processed test text\n",
    "testPreds = gnb.predict(Xtest.toarray())\n",
    "# workout accuracy\n",
    "hit = 0\n",
    "miss = 0\n",
    "for i in range(len(testPreds)):\n",
    "    if testPreds[i] == testLabels[i]:\n",
    "        hit += 1\n",
    "    else:\n",
    "        miss += 1\n",
    "accuracy = (hit)/(hit+miss)\n",
    "print(accuracy)"
   ]
  },
  {
   "cell_type": "code",
   "execution_count": 20,
   "metadata": {},
   "outputs": [
    {
     "data": {
      "text/plain": [
       "SVC()"
      ]
     },
     "execution_count": 20,
     "metadata": {},
     "output_type": "execute_result"
    }
   ],
   "source": [
    "# The second solution we are going to focus on is support vector machines\n",
    "from sklearn.svm import SVC \n",
    "svm = SVC() \n",
    "svm.fit(X, labels)"
   ]
  },
  {
   "cell_type": "code",
   "execution_count": 22,
   "metadata": {},
   "outputs": [
    {
     "name": "stdout",
     "output_type": "stream",
     "text": [
      "0.5392311743022643\n"
     ]
    }
   ],
   "source": [
    "testPreds = svm.predict(Xtest)\n",
    "hit = 0\n",
    "miss = 0\n",
    "for i in range(len(testPreds)):\n",
    "    if testPreds[i] == testLabels[i]:\n",
    "        hit += 1\n",
    "    else:\n",
    "        miss += 1\n",
    "accuracy = (hit)/(hit+miss)\n",
    "print(accuracy)"
   ]
  },
  {
   "cell_type": "code",
   "execution_count": null,
   "metadata": {},
   "outputs": [],
   "source": []
  }
 ],
 "metadata": {
  "interpreter": {
   "hash": "d1252bd3324bb4cfe5f9a347846ca1874de916cd42e7b6635a852f64f21954e7"
  },
  "kernelspec": {
   "display_name": "Python 3.10.1 64-bit",
   "language": "python",
   "name": "python3"
  },
  "language_info": {
   "codemirror_mode": {
    "name": "ipython",
    "version": 3
   },
   "file_extension": ".py",
   "mimetype": "text/x-python",
   "name": "python",
   "nbconvert_exporter": "python",
   "pygments_lexer": "ipython3",
   "version": "3.10.1"
  },
  "orig_nbformat": 4
 },
 "nbformat": 4,
 "nbformat_minor": 2
}
